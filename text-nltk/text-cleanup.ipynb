{
 "cells": [
  {
   "cell_type": "markdown",
   "metadata": {},
   "source": [
    "# Text Cleanup"
   ]
  },
  {
   "cell_type": "markdown",
   "metadata": {},
   "source": [
    "## Strip Markup Tags"
   ]
  },
  {
   "cell_type": "code",
   "execution_count": 1,
   "metadata": {},
   "outputs": [
    {
     "name": "stdout",
     "output_type": "stream",
     "text": [
      "It was the best of times. It was the worst of times! It was the age of wisdom!!\n",
      "\n",
      "$123\n"
     ]
    }
   ],
   "source": [
    "from bs4 import BeautifulSoup\n",
    "\n",
    "str = \"\"\"It was the <b>best of times</b>. It was the <b>worst of times</b>! It was the age of wisdom!!\n",
    "<br>\n",
    "$123\"\"\"\n",
    "\n",
    "cleantext = BeautifulSoup(str).text\n",
    "print(cleantext)"
   ]
  },
  {
   "cell_type": "markdown",
   "metadata": {},
   "source": [
    "## LowerCase"
   ]
  },
  {
   "cell_type": "code",
   "execution_count": 2,
   "metadata": {},
   "outputs": [
    {
     "data": {
      "text/plain": [
       "'it was the best of times. it was the worst of times! it was the age of wisdom!!\\n$123'"
      ]
     },
     "execution_count": 2,
     "metadata": {},
     "output_type": "execute_result"
    }
   ],
   "source": [
    "str = \"\"\"It was the best of times. It was the worst of times! It was the age of wisdom!!\n",
    "$123\"\"\"\n",
    "\n",
    "str_lower = str.lower()\n",
    "str_lower"
   ]
  },
  {
   "cell_type": "markdown",
   "metadata": {},
   "source": [
    "## Tokenize"
   ]
  },
  {
   "cell_type": "code",
   "execution_count": 8,
   "metadata": {},
   "outputs": [
    {
     "name": "stdout",
     "output_type": "stream",
     "text": [
      "['it', 'was', 'the', 'best', 'of', 'times', '.', 'it', 'was', 'the', 'worst', 'of', 'times', '!', 'it', 'was', 'the', 'age', 'of', 'wisdom', '!', '!', '$', '123']\n"
     ]
    }
   ],
   "source": [
    "import nltk\n",
    "\n",
    "str = \"\"\"It was the best of times. It was the worst of times! It was the age of wisdom!!\n",
    "$123\"\"\"\n",
    "\n",
    "str_lower = str.lower()\n",
    "\n",
    "words = nltk.word_tokenize(str_lower)\n",
    "\n",
    "print (words)"
   ]
  },
  {
   "cell_type": "markdown",
   "metadata": {},
   "source": [
    "## Strip Puncutations/Numbers"
   ]
  },
  {
   "cell_type": "code",
   "execution_count": 3,
   "metadata": {},
   "outputs": [
    {
     "name": "stdout",
     "output_type": "stream",
     "text": [
      "before:\n",
      " ['it', 'was', 'the', 'best', 'of', 'times', '.', 'it', 'was', 'the', 'worst', 'of', 'times', '!', 'it', 'was', 'the', 'age', 'of', 'wisdom', '!', '!', '$', '123']\n",
      "after:\n",
      " ['it', 'was', 'the', 'best', 'of', 'times', 'it', 'was', 'the', 'worst', 'of', 'times', 'it', 'was', 'the', 'age', 'of', 'wisdom']\n"
     ]
    }
   ],
   "source": [
    "import nltk\n",
    "\n",
    "str = \"\"\"It was the best of times. It was the worst of times! It was the age of wisdom!!\n",
    "$123\"\"\"\n",
    "\n",
    "str_lower = str.lower()\n",
    "\n",
    "words = nltk.word_tokenize(str_lower)\n",
    "\n",
    "print ('before:\\n', words)\n",
    "words=[word for word in words if word.isalpha()]\n",
    "print ('after:\\n', words)"
   ]
  },
  {
   "cell_type": "code",
   "execution_count": 4,
   "metadata": {},
   "outputs": [
    {
     "name": "stdout",
     "output_type": "stream",
     "text": [
      "['It', 'was', 'the', 'best', 'of', 'times', 'It', 'was', 'the', 'worst', 'of', 'times', 'It', 'was', 'the', 'age', 'of', 'wisdom', '123']\n"
     ]
    }
   ],
   "source": [
    "from nltk.tokenize import RegexpTokenizer\n",
    "\n",
    "str = \"\"\"It was the best of times. It was the worst of times! It was the age of wisdom!!\n",
    "$123\"\"\"\n",
    "tokenizer = RegexpTokenizer(r'\\w+')\n",
    "words = tokenizer.tokenize(str)\n",
    "print (words)"
   ]
  },
  {
   "cell_type": "markdown",
   "metadata": {},
   "source": [
    "## Remove Stop Words"
   ]
  },
  {
   "cell_type": "code",
   "execution_count": 9,
   "metadata": {},
   "outputs": [
    {
     "name": "stdout",
     "output_type": "stream",
     "text": [
      "number of stop words: 179\n",
      "\n",
      "['a', 'about', 'above', 'after', 'again', 'against', 'ain', 'all', 'am', 'an', 'and', 'any', 'are', 'aren', \"aren't\", 'as', 'at', 'be', 'because', 'been', 'before', 'being', 'below', 'between', 'both', 'but', 'by', 'can', 'couldn', \"couldn't\", 'd', 'did', 'didn', \"didn't\", 'do', 'does', 'doesn', \"doesn't\", 'doing', 'don', \"don't\", 'down', 'during', 'each', 'few', 'for', 'from', 'further', 'had', 'hadn', \"hadn't\", 'has', 'hasn', \"hasn't\", 'have', 'haven', \"haven't\", 'having', 'he', 'her', 'here', 'hers', 'herself', 'him', 'himself', 'his', 'how', 'i', 'if', 'in', 'into', 'is', 'isn', \"isn't\", 'it', \"it's\", 'its', 'itself', 'just', 'll', 'm', 'ma', 'me', 'mightn', \"mightn't\", 'more', 'most', 'mustn', \"mustn't\", 'my', 'myself', 'needn', \"needn't\", 'no', 'nor', 'not', 'now', 'o', 'of', 'off', 'on', 'once', 'only', 'or', 'other', 'our', 'ours', 'ourselves', 'out', 'over', 'own', 're', 's', 'same', 'shan', \"shan't\", 'she', \"she's\", 'should', \"should've\", 'shouldn', \"shouldn't\", 'so', 'some', 'such', 't', 'than', 'that', \"that'll\", 'the', 'their', 'theirs', 'them', 'themselves', 'then', 'there', 'these', 'they', 'this', 'those', 'through', 'to', 'too', 'under', 'until', 'up', 've', 'very', 'was', 'wasn', \"wasn't\", 'we', 'were', 'weren', \"weren't\", 'what', 'when', 'where', 'which', 'while', 'who', 'whom', 'why', 'will', 'with', 'won', \"won't\", 'wouldn', \"wouldn't\", 'y', 'you', \"you'd\", \"you'll\", \"you're\", \"you've\", 'your', 'yours', 'yourself', 'yourselves']\n"
     ]
    }
   ],
   "source": [
    "## print out stopwords\n",
    "\n",
    "import nltk\n",
    "from nltk.corpus import stopwords\n",
    "\n",
    "stopwords_en = stopwords.words('english')\n",
    "stopwords_en.sort()\n",
    "print ('number of stop words:', len(stopwords_en))\n",
    "print()\n",
    "print (stopwords_en)\n"
   ]
  },
  {
   "cell_type": "code",
   "execution_count": 6,
   "metadata": {},
   "outputs": [
    {
     "name": "stdout",
     "output_type": "stream",
     "text": [
      "before:\n",
      " ['it', 'was', 'the', 'best', 'of', 'times', 'it', 'was', 'the', 'worst', 'of', 'times', 'it', 'was', 'the', 'age', 'of', 'wisdom']\n",
      "after:\n",
      " ['best', 'times', 'worst', 'times', 'age', 'wisdom']\n"
     ]
    }
   ],
   "source": [
    "import nltk\n",
    "from nltk.corpus import stopwords\n",
    "\n",
    "str = \"\"\"It was the best of times. It was the worst of times! It was the age of wisdom!!\n",
    "$123\"\"\"\n",
    "\n",
    "## Tokenize\n",
    "str_lower = str.lower()\n",
    "words = nltk.word_tokenize(str_lower)\n",
    "words=[word for word in words if word.isalpha()]\n",
    "\n",
    "# grab stopwords\n",
    "stopwords_en = stopwords.words('english')\n",
    "\n",
    "print ('before:\\n', words)\n",
    "## filter out stopwords\n",
    "words = [w for w in words if not w in stopwords_en]\n",
    "print ('after:\\n', words)"
   ]
  },
  {
   "cell_type": "markdown",
   "metadata": {},
   "source": [
    "## Lemmatization"
   ]
  },
  {
   "cell_type": "code",
   "execution_count": 7,
   "metadata": {},
   "outputs": [
    {
     "name": "stdout",
     "output_type": "stream",
     "text": [
      "run : run\n",
      "running : running\n",
      "books : book\n",
      "people : people\n",
      "leaves : leaf\n",
      "mice : mouse\n"
     ]
    }
   ],
   "source": [
    "import nltk\n",
    "from nltk.stem import WordNetLemmatizer\n",
    "\n",
    "words = ['run', 'running', 'books', 'people', 'leaves',  'mice']\n",
    "\n",
    "lemmatizer = WordNetLemmatizer() \n",
    "for w in words:\n",
    "    print (w, ':', lemmatizer.lemmatize(w))"
   ]
  },
  {
   "cell_type": "code",
   "execution_count": null,
   "metadata": {},
   "outputs": [],
   "source": []
  }
 ],
 "metadata": {
  "kernelspec": {
   "display_name": "Python 3",
   "language": "python",
   "name": "python3"
  },
  "language_info": {
   "codemirror_mode": {
    "name": "ipython",
    "version": 3
   },
   "file_extension": ".py",
   "mimetype": "text/x-python",
   "name": "python",
   "nbconvert_exporter": "python",
   "pygments_lexer": "ipython3",
   "version": "3.8.5"
  }
 },
 "nbformat": 4,
 "nbformat_minor": 4
}
