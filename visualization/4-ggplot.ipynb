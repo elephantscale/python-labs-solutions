{
 "cells": [
  {
   "cell_type": "markdown",
   "metadata": {},
   "source": [
    "\n",
    "4-ggplot\n",
    "============\n",
    "\n",
    "### Overview\n",
    "- Learn ggplot library\n",
    "\n",
    "### Depends On\n",
    "None\n",
    "\n",
    "### Run time\n",
    "10-15 mins\n",
    "\n",
    "### Working directory\n",
    "03-visualization\n",
    "\n",
    "**=> Make sure you have ggplot package installed **"
   ]
  },
  {
   "cell_type": "code",
   "execution_count": 2,
   "metadata": {
    "scrolled": true
   },
   "outputs": [
    {
     "name": "stdout",
     "output_type": "stream",
     "text": [
      "Collecting ggplot\n",
      "\u001b[?25l  Downloading https://files.pythonhosted.org/packages/48/04/5c88cc51c6713583f2dc78a5296adb9741505348c323d5875bc976143db2/ggplot-0.11.5-py2.py3-none-any.whl (2.2MB)\n",
      "\u001b[K    100% |████████████████████████████████| 2.2MB 606kB/s ta 0:00:011\n",
      "\u001b[?25hRequirement already satisfied: patsy>=0.4 in /anaconda3/lib/python3.6/site-packages (from ggplot) (0.5.0)\n",
      "Requirement already satisfied: six in /anaconda3/lib/python3.6/site-packages (from ggplot) (1.11.0)\n",
      "Requirement already satisfied: numpy in /anaconda3/lib/python3.6/site-packages (from ggplot) (1.17.3)\n",
      "Requirement already satisfied: statsmodels in /anaconda3/lib/python3.6/site-packages (from ggplot) (0.8.0)\n",
      "Requirement already satisfied: cycler in /anaconda3/lib/python3.6/site-packages (from ggplot) (0.10.0)\n",
      "Requirement already satisfied: scipy in /anaconda3/lib/python3.6/site-packages (from ggplot) (1.0.0)\n",
      "Requirement already satisfied: matplotlib in /anaconda3/lib/python3.6/site-packages (from ggplot) (2.1.2)\n",
      "Collecting brewer2mpl (from ggplot)\n",
      "  Downloading https://files.pythonhosted.org/packages/84/57/00c45a199719e617db0875181134fcb3aeef701deae346547ac722eaaf5e/brewer2mpl-1.4.1-py2.py3-none-any.whl\n",
      "Requirement already satisfied: pandas in /anaconda3/lib/python3.6/site-packages (from ggplot) (0.22.0)\n",
      "Requirement already satisfied: python-dateutil>=2.1 in /anaconda3/lib/python3.6/site-packages (from matplotlib->ggplot) (2.8.0)\n",
      "Requirement already satisfied: pytz in /anaconda3/lib/python3.6/site-packages (from matplotlib->ggplot) (2018.9)\n",
      "Requirement already satisfied: pyparsing!=2.0.4,!=2.1.2,!=2.1.6,>=2.0.1 in /anaconda3/lib/python3.6/site-packages (from matplotlib->ggplot) (2.2.0)\n",
      "Installing collected packages: brewer2mpl, ggplot\n",
      "Successfully installed brewer2mpl-1.4.1 ggplot-0.11.5\n",
      "\u001b[33mYou are using pip version 18.1, however version 19.3.1 is available.\n",
      "You should consider upgrading via the 'pip install --upgrade pip' command.\u001b[0m\n"
     ]
    }
   ],
   "source": [
    "# Run these imports.\n",
    "!pip install ggplot\n",
    "import warnings\n",
    "warnings.simplefilter(action='ignore', category=FutureWarning)\n",
    "\n",
    "\n",
    "%matplotlib inline\n",
    "import pandas as pd\n",
    "from ggplot import *"
   ]
  },
  {
   "cell_type": "markdown",
   "metadata": {},
   "source": [
    "\n",
    "## STEP 1: graphing course evaluation data\n",
    "Data is in: [data/course-evals.csv](../data/viz/course-evals.csv)\n",
    "\n",
    "<img src=../assets/images/9.3a-ggplot.png style=\"border: 5px solid grey ; max-width:100%;\" />\n",
    "\n",
    "```\n",
    "  q1: The instructor was well prepared.\n",
    "  q2: The instructor communicated well.\n",
    "  q3: The course materials were helpful.\n",
    "  q4: Overall, I found this workshop useful.\n",
    "```\n",
    "\n",
    "  Each questions (q1 - q4) will have an answer 1 - 5\n",
    "  (1 - strongly disagree /   5 - strongly agree)\n",
    " "
   ]
  },
  {
   "cell_type": "markdown",
   "metadata": {},
   "source": [
    "\n",
    "## STEP 2: read this data and examine it\n",
    "Hint: `pd.read_csv` \n",
    "\n",
    "\n",
    "```python\n",
    "import pandas as pd\n",
    "evals = pd.read_csv(\"../data/viz/course-evals.csv\", header=TRUE)\n",
    "evals\n",
    "```"
   ]
  },
  {
   "cell_type": "code",
   "execution_count": null,
   "metadata": {
    "collapsed": true
   },
   "outputs": [],
   "source": [
    "# TODO: Examine data"
   ]
  },
  {
   "cell_type": "code",
   "execution_count": null,
   "metadata": {
    "collapsed": true
   },
   "outputs": [],
   "source": [
    "# TODO: get rid of NAs in data\n",
    "evals_clean = evals.???\n",
    "evals_clea"
   ]
  },
  {
   "cell_type": "markdown",
   "metadata": {},
   "source": [
    "## STEP 3) plot frequency distribution of workshops\n",
    "Hint:\n",
    "```python\n",
    "import ggplot\n",
    "\n",
    "ggplot(??? ,    # data goes here (evals_clean)\n",
    "       aes(x=???)) +   # x = workshop\n",
    "       geom_bar()\n",
    ")\n",
    "```"
   ]
  },
  {
   "cell_type": "markdown",
   "metadata": {
    "collapsed": true
   },
   "source": [
    "\n",
    "## STEP 4) Gender distribution\n",
    "Let's also add gender distribution to the above graph\n",
    "```python\n",
    "ggplot(??? ,    # data goes here (evals.clean)\n",
    "       aes(x=???,  fill=???)) +   # x = workshop,  fill=gender\n",
    "       geom_bar()\n",
    "```\n",
    "\n",
    "Expect a graph like this:\n",
    "\n",
    "<img src=\"../assets/images/9.3b-ggplot.png\" style=\"border: 5px solid grey ; max-width:100%;\" />\n"
   ]
  },
  {
   "cell_type": "code",
   "execution_count": null,
   "metadata": {
    "collapsed": true
   },
   "outputs": [],
   "source": [
    "#TODO:"
   ]
  },
  {
   "cell_type": "markdown",
   "metadata": {},
   "source": [
    "\n",
    "## Step 5: Stacked graphs\n",
    "The layout of stacked graphs are controlled by `geom_bar(position=???)` parameter.\n",
    "Try the following\n",
    "- `position=fill`\n",
    "- `position=stack`\n",
    "- `position=dodge`\n",
    "\n",
    "Which one do you prefer?\n",
    "\n",
    "example:\n",
    "```python\n",
    "ggplot(??? ,    # data goes here (evals.clean)\n",
    "       aes(x=???,  fill=???)) +   # x = workshop,  fill=gender\n",
    "       geom_bar(position=\"fill\")\n",
    "```\n",
    "\n",
    "<img src=\"../assets/images/9.3c-ggplot.png\" style=\"border: 5px solid grey ; max-width:100%;\" />\n",
    "\n",
    "\n"
   ]
  },
  {
   "cell_type": "code",
   "execution_count": null,
   "metadata": {
    "collapsed": true
   },
   "outputs": [],
   "source": [
    "#TODO:\n",
    "    "
   ]
  },
  {
   "cell_type": "markdown",
   "metadata": {},
   "source": [
    "\n",
    "## Step 6: Box plot\n",
    "See test scores (posttest) per workshop\n",
    "\n",
    "```python\n",
    "ggpplot (evals.clean\n",
    "    aes(x=???, y=???)) +   # x=workshop,   y=posttest\n",
    "    geom_boxplot()\n",
    "```\n",
    "\n",
    "### Add some color\n",
    "Modify `geom_box(color=\"red\", fill=\"orange\")`\n",
    "\n",
    "\n"
   ]
  },
  {
   "cell_type": "code",
   "execution_count": null,
   "metadata": {
    "collapsed": true
   },
   "outputs": [],
   "source": [
    "# TODO:"
   ]
  },
  {
   "cell_type": "markdown",
   "metadata": {},
   "source": [
    "\n",
    "### Pre and Post test in one graph\n",
    "\n",
    "```python\n",
    "# pre and post scores\n",
    "g = ggplot(evals_clean, aes(x=workshop, y=posttest)) + geom_boxplot(color=\"red\")\n",
    "g\n",
    "g = g + geom_boxplot(aes(x=workshop, y=pretest), color=\"blue\")\n",
    "g\n",
    "\n",
    "```\n"
   ]
  },
  {
   "cell_type": "code",
   "execution_count": null,
   "metadata": {
    "collapsed": true
   },
   "outputs": [],
   "source": [
    "# TODO:"
   ]
  },
  {
   "cell_type": "markdown",
   "metadata": {},
   "source": [
    "\n",
    "### Add gender bias to scores\n",
    "done by `fill=gender`\n",
    "```python\n",
    "ggplot(evals.clean, aes(x=workshop, y=posttest, fill=gender)) + geom_boxplot()\n",
    "```\n",
    "<img src=\"../assets/images/9.3d-ggplot.png\" style=\"border: 5px solid grey ; max-width:100%;\" />"
   ]
  },
  {
   "cell_type": "code",
   "execution_count": null,
   "metadata": {
    "collapsed": true
   },
   "outputs": [],
   "source": []
  },
  {
   "cell_type": "markdown",
   "metadata": {},
   "source": [
    "## Step 7 : Distribution curve\n",
    "Let's see how the scores are distributed\n",
    "\n",
    "```python\n",
    "ggplot(evals.clean, aes(x=posttest)) + geom_density()\n",
    "```\n",
    "\n",
    "<img src=\"../assets/images/9.3e-ggplot.png\" style=\"border: 5px solid grey ; max-width:100%;\" />"
   ]
  },
  {
   "cell_type": "code",
   "execution_count": null,
   "metadata": {
    "collapsed": true
   },
   "outputs": [],
   "source": [
    "# TODO:\n"
   ]
  }
 ],
 "metadata": {
  "kernelspec": {
   "display_name": "Python 3",
   "language": "python",
   "name": "python3"
  },
  "language_info": {
   "codemirror_mode": {
    "name": "ipython",
    "version": 3
   },
   "file_extension": ".py",
   "mimetype": "text/x-python",
   "name": "python",
   "nbconvert_exporter": "python",
   "pygments_lexer": "ipython3",
   "version": "3.6.4"
  }
 },
 "nbformat": 4,
 "nbformat_minor": 2
}
