{
 "cells": [
  {
   "cell_type": "markdown",
   "metadata": {},
   "source": [
    "# Visualize House Sales Data\n",
    "\n",
    "Let's use pandas and matplotlib to help us to visualize sales data."
   ]
  },
  {
   "cell_type": "code",
   "execution_count": 1,
   "metadata": {},
   "outputs": [],
   "source": [
    "%matplotlib inline\n",
    "\n",
    "import numpy as np\n",
    "import pandas as pd\n",
    "import matplotlib.pyplot as plt\n",
    "import seaborn as sns "
   ]
  },
  {
   "cell_type": "markdown",
   "metadata": {},
   "source": [
    "## Read and Display data"
   ]
  },
  {
   "cell_type": "code",
   "execution_count": 2,
   "metadata": {},
   "outputs": [
    {
     "data": {
      "text/html": [
       "<div>\n",
       "<style scoped>\n",
       "    .dataframe tbody tr th:only-of-type {\n",
       "        vertical-align: middle;\n",
       "    }\n",
       "\n",
       "    .dataframe tbody tr th {\n",
       "        vertical-align: top;\n",
       "    }\n",
       "\n",
       "    .dataframe thead th {\n",
       "        text-align: right;\n",
       "    }\n",
       "</style>\n",
       "<table border=\"1\" class=\"dataframe\">\n",
       "  <thead>\n",
       "    <tr style=\"text-align: right;\">\n",
       "      <th></th>\n",
       "      <th>ID</th>\n",
       "      <th>Date</th>\n",
       "      <th>SalePrice</th>\n",
       "      <th>PropertyID</th>\n",
       "      <th>PropertyType</th>\n",
       "      <th>Bedrooms</th>\n",
       "      <th>Bathrooms</th>\n",
       "      <th>SqFtTotLiving</th>\n",
       "      <th>SqFtLot</th>\n",
       "      <th>YrBuilt</th>\n",
       "      <th>ZipCode</th>\n",
       "    </tr>\n",
       "  </thead>\n",
       "  <tbody>\n",
       "    <tr>\n",
       "      <td>0</td>\n",
       "      <td>1</td>\n",
       "      <td>9/16/14</td>\n",
       "      <td>280000</td>\n",
       "      <td>1000102</td>\n",
       "      <td>Multiplex</td>\n",
       "      <td>6</td>\n",
       "      <td>3.00</td>\n",
       "      <td>2400</td>\n",
       "      <td>9373</td>\n",
       "      <td>1991</td>\n",
       "      <td>98002</td>\n",
       "    </tr>\n",
       "    <tr>\n",
       "      <td>1</td>\n",
       "      <td>2</td>\n",
       "      <td>6/16/06</td>\n",
       "      <td>1000000</td>\n",
       "      <td>1200013</td>\n",
       "      <td>Single Family</td>\n",
       "      <td>4</td>\n",
       "      <td>3.75</td>\n",
       "      <td>3764</td>\n",
       "      <td>20156</td>\n",
       "      <td>2005</td>\n",
       "      <td>98166</td>\n",
       "    </tr>\n",
       "    <tr>\n",
       "      <td>2</td>\n",
       "      <td>3</td>\n",
       "      <td>1/29/07</td>\n",
       "      <td>745000</td>\n",
       "      <td>1200019</td>\n",
       "      <td>Single Family</td>\n",
       "      <td>4</td>\n",
       "      <td>1.75</td>\n",
       "      <td>2060</td>\n",
       "      <td>26036</td>\n",
       "      <td>1947</td>\n",
       "      <td>98166</td>\n",
       "    </tr>\n",
       "    <tr>\n",
       "      <td>3</td>\n",
       "      <td>4</td>\n",
       "      <td>2/25/08</td>\n",
       "      <td>425000</td>\n",
       "      <td>2800016</td>\n",
       "      <td>Single Family</td>\n",
       "      <td>5</td>\n",
       "      <td>3.75</td>\n",
       "      <td>3200</td>\n",
       "      <td>8618</td>\n",
       "      <td>1966</td>\n",
       "      <td>98168</td>\n",
       "    </tr>\n",
       "    <tr>\n",
       "      <td>4</td>\n",
       "      <td>5</td>\n",
       "      <td>3/29/13</td>\n",
       "      <td>240000</td>\n",
       "      <td>2800024</td>\n",
       "      <td>Single Family</td>\n",
       "      <td>4</td>\n",
       "      <td>1.75</td>\n",
       "      <td>1720</td>\n",
       "      <td>8620</td>\n",
       "      <td>1948</td>\n",
       "      <td>98168</td>\n",
       "    </tr>\n",
       "    <tr>\n",
       "      <td>...</td>\n",
       "      <td>...</td>\n",
       "      <td>...</td>\n",
       "      <td>...</td>\n",
       "      <td>...</td>\n",
       "      <td>...</td>\n",
       "      <td>...</td>\n",
       "      <td>...</td>\n",
       "      <td>...</td>\n",
       "      <td>...</td>\n",
       "      <td>...</td>\n",
       "      <td>...</td>\n",
       "    </tr>\n",
       "    <tr>\n",
       "      <td>27058</td>\n",
       "      <td>27059</td>\n",
       "      <td>10/31/12</td>\n",
       "      <td>374000</td>\n",
       "      <td>9895000030</td>\n",
       "      <td>Townhouse</td>\n",
       "      <td>2</td>\n",
       "      <td>1.75</td>\n",
       "      <td>1410</td>\n",
       "      <td>1161</td>\n",
       "      <td>2011</td>\n",
       "      <td>-1</td>\n",
       "    </tr>\n",
       "    <tr>\n",
       "      <td>27059</td>\n",
       "      <td>27060</td>\n",
       "      <td>12/7/12</td>\n",
       "      <td>374000</td>\n",
       "      <td>9895000040</td>\n",
       "      <td>Townhouse</td>\n",
       "      <td>2</td>\n",
       "      <td>1.75</td>\n",
       "      <td>1410</td>\n",
       "      <td>1005</td>\n",
       "      <td>2011</td>\n",
       "      <td>-1</td>\n",
       "    </tr>\n",
       "    <tr>\n",
       "      <td>27060</td>\n",
       "      <td>27061</td>\n",
       "      <td>7/9/12</td>\n",
       "      <td>165000</td>\n",
       "      <td>9899200010</td>\n",
       "      <td>Single Family</td>\n",
       "      <td>4</td>\n",
       "      <td>1.00</td>\n",
       "      <td>1070</td>\n",
       "      <td>11170</td>\n",
       "      <td>1971</td>\n",
       "      <td>98055</td>\n",
       "    </tr>\n",
       "    <tr>\n",
       "      <td>27061</td>\n",
       "      <td>27062</td>\n",
       "      <td>5/26/06</td>\n",
       "      <td>315000</td>\n",
       "      <td>9900000355</td>\n",
       "      <td>Single Family</td>\n",
       "      <td>3</td>\n",
       "      <td>2.00</td>\n",
       "      <td>1345</td>\n",
       "      <td>6223</td>\n",
       "      <td>1939</td>\n",
       "      <td>98166</td>\n",
       "    </tr>\n",
       "    <tr>\n",
       "      <td>27062</td>\n",
       "      <td>27063</td>\n",
       "      <td>1/9/07</td>\n",
       "      <td>465000</td>\n",
       "      <td>9906000035</td>\n",
       "      <td>Single Family</td>\n",
       "      <td>3</td>\n",
       "      <td>1.50</td>\n",
       "      <td>790</td>\n",
       "      <td>4400</td>\n",
       "      <td>1928</td>\n",
       "      <td>98103</td>\n",
       "    </tr>\n",
       "  </tbody>\n",
       "</table>\n",
       "<p>27063 rows × 11 columns</p>\n",
       "</div>"
      ],
      "text/plain": [
       "          ID      Date  SalePrice  PropertyID   PropertyType  Bedrooms  \\\n",
       "0          1   9/16/14     280000     1000102      Multiplex         6   \n",
       "1          2   6/16/06    1000000     1200013  Single Family         4   \n",
       "2          3   1/29/07     745000     1200019  Single Family         4   \n",
       "3          4   2/25/08     425000     2800016  Single Family         5   \n",
       "4          5   3/29/13     240000     2800024  Single Family         4   \n",
       "...      ...       ...        ...         ...            ...       ...   \n",
       "27058  27059  10/31/12     374000  9895000030      Townhouse         2   \n",
       "27059  27060   12/7/12     374000  9895000040      Townhouse         2   \n",
       "27060  27061    7/9/12     165000  9899200010  Single Family         4   \n",
       "27061  27062   5/26/06     315000  9900000355  Single Family         3   \n",
       "27062  27063    1/9/07     465000  9906000035  Single Family         3   \n",
       "\n",
       "       Bathrooms  SqFtTotLiving  SqFtLot  YrBuilt  ZipCode  \n",
       "0           3.00           2400     9373     1991    98002  \n",
       "1           3.75           3764    20156     2005    98166  \n",
       "2           1.75           2060    26036     1947    98166  \n",
       "3           3.75           3200     8618     1966    98168  \n",
       "4           1.75           1720     8620     1948    98168  \n",
       "...          ...            ...      ...      ...      ...  \n",
       "27058       1.75           1410     1161     2011       -1  \n",
       "27059       1.75           1410     1005     2011       -1  \n",
       "27060       1.00           1070    11170     1971    98055  \n",
       "27061       2.00           1345     6223     1939    98166  \n",
       "27062       1.50            790     4400     1928    98103  \n",
       "\n",
       "[27063 rows x 11 columns]"
      ]
     },
     "execution_count": 2,
     "metadata": {},
     "output_type": "execute_result"
    }
   ],
   "source": [
    "data_location = \"/data/house-prices/house-sales-simplified.csv\"\n",
    "# data_location = 'https://elephantscale-public.s3.amazonaws.com/data/house-prices/house-sales-simplified.csv'\n",
    "\n",
    "house_prices = pd.read_csv(data_location)\n",
    "house_prices"
   ]
  },
  {
   "cell_type": "markdown",
   "metadata": {},
   "source": [
    "## 'Summary' of data"
   ]
  },
  {
   "cell_type": "code",
   "execution_count": 3,
   "metadata": {},
   "outputs": [
    {
     "data": {
      "text/html": [
       "<div>\n",
       "<style scoped>\n",
       "    .dataframe tbody tr th:only-of-type {\n",
       "        vertical-align: middle;\n",
       "    }\n",
       "\n",
       "    .dataframe tbody tr th {\n",
       "        vertical-align: top;\n",
       "    }\n",
       "\n",
       "    .dataframe thead th {\n",
       "        text-align: right;\n",
       "    }\n",
       "</style>\n",
       "<table border=\"1\" class=\"dataframe\">\n",
       "  <thead>\n",
       "    <tr style=\"text-align: right;\">\n",
       "      <th></th>\n",
       "      <th>ID</th>\n",
       "      <th>SalePrice</th>\n",
       "      <th>PropertyID</th>\n",
       "      <th>Bedrooms</th>\n",
       "      <th>Bathrooms</th>\n",
       "      <th>SqFtTotLiving</th>\n",
       "      <th>SqFtLot</th>\n",
       "      <th>YrBuilt</th>\n",
       "      <th>ZipCode</th>\n",
       "    </tr>\n",
       "  </thead>\n",
       "  <tbody>\n",
       "    <tr>\n",
       "      <td>count</td>\n",
       "      <td>27063.000000</td>\n",
       "      <td>2.706300e+04</td>\n",
       "      <td>2.706300e+04</td>\n",
       "      <td>27063.000000</td>\n",
       "      <td>27063.000000</td>\n",
       "      <td>27063.000000</td>\n",
       "      <td>2.706300e+04</td>\n",
       "      <td>27063.000000</td>\n",
       "      <td>27063.000000</td>\n",
       "    </tr>\n",
       "    <tr>\n",
       "      <td>mean</td>\n",
       "      <td>13532.000000</td>\n",
       "      <td>5.116262e+05</td>\n",
       "      <td>4.680325e+09</td>\n",
       "      <td>3.380150</td>\n",
       "      <td>2.255552</td>\n",
       "      <td>2122.963160</td>\n",
       "      <td>1.099768e+04</td>\n",
       "      <td>1977.086871</td>\n",
       "      <td>82223.038244</td>\n",
       "    </tr>\n",
       "    <tr>\n",
       "      <td>std</td>\n",
       "      <td>7812.559504</td>\n",
       "      <td>3.428212e+05</td>\n",
       "      <td>2.896351e+09</td>\n",
       "      <td>0.895447</td>\n",
       "      <td>0.771191</td>\n",
       "      <td>939.839476</td>\n",
       "      <td>2.811066e+04</td>\n",
       "      <td>30.921491</td>\n",
       "      <td>36106.665559</td>\n",
       "    </tr>\n",
       "    <tr>\n",
       "      <td>min</td>\n",
       "      <td>1.000000</td>\n",
       "      <td>3.000000e+03</td>\n",
       "      <td>1.000102e+06</td>\n",
       "      <td>0.000000</td>\n",
       "      <td>0.000000</td>\n",
       "      <td>370.000000</td>\n",
       "      <td>4.940000e+02</td>\n",
       "      <td>1900.000000</td>\n",
       "      <td>-1.000000</td>\n",
       "    </tr>\n",
       "    <tr>\n",
       "      <td>25%</td>\n",
       "      <td>6766.500000</td>\n",
       "      <td>3.290000e+05</td>\n",
       "      <td>2.213000e+09</td>\n",
       "      <td>3.000000</td>\n",
       "      <td>1.750000</td>\n",
       "      <td>1440.000000</td>\n",
       "      <td>4.257500e+03</td>\n",
       "      <td>1954.000000</td>\n",
       "      <td>98019.000000</td>\n",
       "    </tr>\n",
       "    <tr>\n",
       "      <td>50%</td>\n",
       "      <td>13532.000000</td>\n",
       "      <td>4.250000e+05</td>\n",
       "      <td>3.972900e+09</td>\n",
       "      <td>3.000000</td>\n",
       "      <td>2.500000</td>\n",
       "      <td>1940.000000</td>\n",
       "      <td>6.636000e+03</td>\n",
       "      <td>1986.000000</td>\n",
       "      <td>98053.000000</td>\n",
       "    </tr>\n",
       "    <tr>\n",
       "      <td>75%</td>\n",
       "      <td>20297.500000</td>\n",
       "      <td>5.900000e+05</td>\n",
       "      <td>7.504001e+09</td>\n",
       "      <td>4.000000</td>\n",
       "      <td>2.500000</td>\n",
       "      <td>2610.000000</td>\n",
       "      <td>9.450000e+03</td>\n",
       "      <td>2006.000000</td>\n",
       "      <td>98115.000000</td>\n",
       "    </tr>\n",
       "    <tr>\n",
       "      <td>max</td>\n",
       "      <td>27063.000000</td>\n",
       "      <td>1.100000e+07</td>\n",
       "      <td>9.906000e+09</td>\n",
       "      <td>33.000000</td>\n",
       "      <td>8.000000</td>\n",
       "      <td>10740.000000</td>\n",
       "      <td>1.024068e+06</td>\n",
       "      <td>2016.000000</td>\n",
       "      <td>98354.000000</td>\n",
       "    </tr>\n",
       "  </tbody>\n",
       "</table>\n",
       "</div>"
      ],
      "text/plain": [
       "                 ID     SalePrice    PropertyID      Bedrooms     Bathrooms  \\\n",
       "count  27063.000000  2.706300e+04  2.706300e+04  27063.000000  27063.000000   \n",
       "mean   13532.000000  5.116262e+05  4.680325e+09      3.380150      2.255552   \n",
       "std     7812.559504  3.428212e+05  2.896351e+09      0.895447      0.771191   \n",
       "min        1.000000  3.000000e+03  1.000102e+06      0.000000      0.000000   \n",
       "25%     6766.500000  3.290000e+05  2.213000e+09      3.000000      1.750000   \n",
       "50%    13532.000000  4.250000e+05  3.972900e+09      3.000000      2.500000   \n",
       "75%    20297.500000  5.900000e+05  7.504001e+09      4.000000      2.500000   \n",
       "max    27063.000000  1.100000e+07  9.906000e+09     33.000000      8.000000   \n",
       "\n",
       "       SqFtTotLiving       SqFtLot       YrBuilt       ZipCode  \n",
       "count   27063.000000  2.706300e+04  27063.000000  27063.000000  \n",
       "mean     2122.963160  1.099768e+04   1977.086871  82223.038244  \n",
       "std       939.839476  2.811066e+04     30.921491  36106.665559  \n",
       "min       370.000000  4.940000e+02   1900.000000     -1.000000  \n",
       "25%      1440.000000  4.257500e+03   1954.000000  98019.000000  \n",
       "50%      1940.000000  6.636000e+03   1986.000000  98053.000000  \n",
       "75%      2610.000000  9.450000e+03   2006.000000  98115.000000  \n",
       "max     10740.000000  1.024068e+06   2016.000000  98354.000000  "
      ]
     },
     "execution_count": 3,
     "metadata": {},
     "output_type": "execute_result"
    }
   ],
   "source": [
    "## TODO : use describe to get an idea of the data\n",
    "## Hint : 'describe' \n",
    "house_prices.describe()"
   ]
  },
  {
   "cell_type": "markdown",
   "metadata": {},
   "source": [
    "## Histogram / Frequency Plot\n",
    "Create a frequency table & histogram plot based on number of bedrooms"
   ]
  },
  {
   "cell_type": "code",
   "execution_count": 4,
   "metadata": {},
   "outputs": [
    {
     "data": {
      "text/plain": [
       "Bedrooms\n",
       "0        12\n",
       "1       164\n",
       "2      3415\n",
       "3     12074\n",
       "4      9190\n",
       "5      1872\n",
       "6       275\n",
       "7        41\n",
       "8        10\n",
       "9         5\n",
       "11        3\n",
       "13        1\n",
       "33        1\n",
       "dtype: int64"
      ]
     },
     "execution_count": 4,
     "metadata": {},
     "output_type": "execute_result"
    }
   ],
   "source": [
    "## calculate a frequency count\n",
    "## Hint : group by 'Bedrooms'\n",
    "freq_count = house_prices.groupby(\"Bedrooms\").size()\n",
    "freq_count"
   ]
  },
  {
   "cell_type": "code",
   "execution_count": 5,
   "metadata": {},
   "outputs": [
    {
     "data": {
      "text/plain": [
       "<matplotlib.axes._subplots.AxesSubplot at 0x7fa5da0c6048>"
      ]
     },
     "execution_count": 5,
     "metadata": {},
     "output_type": "execute_result"
    },
    {
     "data": {
      "image/png": "[encoded data removed]",
      "text/plain": [
       "<Figure size 432x288 with 1 Axes>"
      ]
     },
     "metadata": {
      "needs_background": "light"
     },
     "output_type": "display_data"
    }
   ],
   "source": [
    "sns.countplot(data=house_prices, x=\"Bedrooms\")"
   ]
  },
  {
   "cell_type": "markdown",
   "metadata": {},
   "source": [
    "## Create a BoxPlot on sale prices \n",
    "Sale prices per property type  (Single Family, Townhouse)"
   ]
  },
  {
   "cell_type": "code",
   "execution_count": 6,
   "metadata": {},
   "outputs": [
    {
     "data": {
      "image/png": "[encoded data removed]",
      "text/plain": [
       "<Figure size 432x288 with 1 Axes>"
      ]
     },
     "metadata": {
      "needs_background": "light"
     },
     "output_type": "display_data"
    }
   ],
   "source": [
    "## TODO : data=price_by_property_type\n",
    "sns.boxplot(x=\"PropertyType\", y=\"SalePrice\",  data=house_prices);"
   ]
  },
  {
   "cell_type": "markdown",
   "metadata": {},
   "source": [
    "## Bonus Lab : Improving our plot\n",
    "Our plot data is pretty 'squished'  Let's see if we can improve it.  \n",
    "Some of the outliers (like the 33 bedroom house is messing up the display).  \n",
    "Let's remove the outliers."
   ]
  },
  {
   "cell_type": "code",
   "execution_count": 7,
   "metadata": {},
   "outputs": [
    {
     "name": "stdout",
     "output_type": "stream",
     "text": [
      "10% price= 260000 , 90% price= 820000\n"
     ]
    }
   ],
   "source": [
    "## We are going to remove 10% off the data from the bottom and top\n",
    "\n",
    "## first calculate 10%  and 90% prices\n",
    "## Hint : supply the right parameters for quantile (10% --> 0.1,  90% --> 0.9)\n",
    "ten_ninety = house_prices.SalePrice.quantile([.1, .9])\n",
    "\n",
    "## extract 10% and 90% into variables\n",
    "ten_percent_price = int(house_prices.SalePrice.quantile(.1))\n",
    "ninety_percent_price = int(house_prices.SalePrice.quantile(.9))\n",
    "print(\"10% price=\", ten_percent_price,  \", 90% price=\", ninety_percent_price)"
   ]
  },
  {
   "cell_type": "code",
   "execution_count": 16,
   "metadata": {},
   "outputs": [
    {
     "name": "stdout",
     "output_type": "stream",
     "text": [
      "total sales  27063\n",
      "above 10%  24411\n",
      "below 90%  27063\n",
      "between 10% and 90% = 21,716\n"
     ]
    },
    {
     "data": {
      "text/plain": [
       "<matplotlib.axes._subplots.AxesSubplot at 0x7fa5d9f32518>"
      ]
     },
     "execution_count": 16,
     "metadata": {},
     "output_type": "execute_result"
    },
    {
     "data": {
      "image/png": "[encoded data removed]",
      "text/plain": [
       "<Figure size 432x288 with 1 Axes>"
      ]
     },
     "metadata": {
      "needs_background": "light"
     },
     "output_type": "display_data"
    }
   ],
   "source": [
    "## filter out below 10% and above 90%\n",
    "print(\"total sales \", len(house_prices.index))\n",
    "\n",
    "## filter prices above 10%  (hint : ten_percent_price)\n",
    "above_ten = house_prices[house_prices[\"SalePrice\"] >= ten_percent_price]\n",
    "print(\"above 10% \" , len(above_ten.index))\n",
    "\n",
    "## filter prices below 90%  (hint : <= ninety_percent_price)\n",
    "below_ninety  = house_prices.filter(house_prices[\"SalePrice\"] <= ninety_percent_price)\n",
    "print(\"below 90% \", len(below_ninety.index))\n",
    "## filter above 10% and below 90% in one query\n",
    "above_ten_below_ninety = house_prices.loc[(house_prices['SalePrice'] >= ten_percent_price) & (house_prices['SalePrice'] <=  ninety_percent_price)]\n",
    "print(\"between 10% and 90% = {:,}\".format(above_ten_below_ninety.shape[0]))\n",
    "\n",
    "sns.boxplot(x=\"PropertyType\", y=\"SalePrice\",  data=above_ten_below_ninety)"
   ]
  },
  {
   "cell_type": "code",
   "execution_count": null,
   "metadata": {},
   "outputs": [],
   "source": [
    "sns.boxplot(x=\"PropertyType\", y=\"SalePrice\",  data=above_ten_below_ninety)"
   ]
  },
  {
   "cell_type": "markdown",
   "metadata": {},
   "source": [
    "## Any other plots?\n",
    "Look at [MatplotLib Examples](https://matplotlib.org/gallery.html).\n",
    "If any of them inspire you try to create a graph like that!\n",
    "And do show it off to the class  :-)"
   ]
  }
 ],
 "metadata": {
  "kernelspec": {
   "display_name": "Python 3",
   "language": "python",
   "name": "python3"
  },
  "language_info": {
   "codemirror_mode": {
    "name": "ipython",
    "version": 3
   },
   "file_extension": ".py",
   "mimetype": "text/x-python",
   "name": "python",
   "nbconvert_exporter": "python",
   "pygments_lexer": "ipython3",
   "version": "3.7.3"
  }
 },
 "nbformat": 4,
 "nbformat_minor": 4
}
