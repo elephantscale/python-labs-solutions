{
  "nbformat": 4,
  "nbformat_minor": 0,
  "metadata": {
    "kernelspec": {
      "display_name": "Python 3",
      "language": "python",
      "name": "python3"
    },
    "language_info": {
      "codemirror_mode": {
        "name": "ipython",
        "version": 3
      },
      "file_extension": ".py",
      "mimetype": "text/x-python",
      "name": "python",
      "nbconvert_exporter": "python",
      "pygments_lexer": "ipython3",
      "version": "3.7.3"
    },
    "colab": {
      "name": "3-visualize-house-sales.ipynb",
      "provenance": [],
      "collapsed_sections": []
    }
  },
  "cells": [
    {
      "cell_type": "markdown",
      "metadata": {
        "id": "39fgP8MYrCeV",
        "colab_type": "text"
      },
      "source": [
        "# Visualize House Sales Data\n",
        "\n",
        "Let's use pandas and matplotlib to help us to visualize sales data."
      ]
    },
    {
      "cell_type": "code",
      "metadata": {
        "id": "Ov5-s-_HrCeW",
        "colab_type": "code",
        "colab": {
          "base_uri": "https://localhost:8080/",
          "height": 72
        },
        "outputId": "5121ae32-c475-4c5d-c4e7-1610ecfbbbd9"
      },
      "source": [
        "%matplotlib inline\n",
        "\n",
        "import numpy as np\n",
        "import pandas as pd\n",
        "import matplotlib.pyplot as plt\n",
        "import seaborn as sns "
      ],
      "execution_count": 1,
      "outputs": [
        {
          "output_type": "stream",
          "text": [
            "/usr/local/lib/python3.6/dist-packages/statsmodels/tools/_testing.py:19: FutureWarning: pandas.util.testing is deprecated. Use the functions in the public API at pandas.testing instead.\n",
            "  import pandas.util.testing as tm\n"
          ],
          "name": "stderr"
        }
      ]
    },
    {
      "cell_type": "markdown",
      "metadata": {
        "id": "8elItS6DrCea",
        "colab_type": "text"
      },
      "source": [
        "## Read and Display data"
      ]
    },
    {
      "cell_type": "code",
      "metadata": {
        "id": "Q1KSNsnTrCea",
        "colab_type": "code",
        "colab": {
          "base_uri": "https://localhost:8080/",
          "height": 407
        },
        "outputId": "8f2a89ca-eba5-4666-b548-4e61719f88b7"
      },
      "source": [
        "# data_location = \"/data/house-prices/house-sales-simplified.csv\"\n",
        "data_location = 'https://elephantscale-public.s3.amazonaws.com/data/house-prices/house-sales-simplified.csv'\n",
        "\n",
        "house_prices = pd.read_csv(data_location)\n",
        "house_prices"
      ],
      "execution_count": 2,
      "outputs": [
        {
          "output_type": "execute_result",
          "data": {
            "text/html": [
              "<div>\n",
              "<style scoped>\n",
              "    .dataframe tbody tr th:only-of-type {\n",
              "        vertical-align: middle;\n",
              "    }\n",
              "\n",
              "    .dataframe tbody tr th {\n",
              "        vertical-align: top;\n",
              "    }\n",
              "\n",
              "    .dataframe thead th {\n",
              "        text-align: right;\n",
              "    }\n",
              "</style>\n",
              "<table border=\"1\" class=\"dataframe\">\n",
              "  <thead>\n",
              "    <tr style=\"text-align: right;\">\n",
              "      <th></th>\n",
              "      <th>ID</th>\n",
              "      <th>Date</th>\n",
              "      <th>SalePrice</th>\n",
              "      <th>PropertyID</th>\n",
              "      <th>PropertyType</th>\n",
              "      <th>Bedrooms</th>\n",
              "      <th>Bathrooms</th>\n",
              "      <th>SqFtTotLiving</th>\n",
              "      <th>SqFtLot</th>\n",
              "      <th>YrBuilt</th>\n",
              "      <th>ZipCode</th>\n",
              "    </tr>\n",
              "  </thead>\n",
              "  <tbody>\n",
              "    <tr>\n",
              "      <th>0</th>\n",
              "      <td>1</td>\n",
              "      <td>9/16/14</td>\n",
              "      <td>280000</td>\n",
              "      <td>1000102</td>\n",
              "      <td>Multiplex</td>\n",
              "      <td>6</td>\n",
              "      <td>3.00</td>\n",
              "      <td>2400</td>\n",
              "      <td>9373</td>\n",
              "      <td>1991</td>\n",
              "      <td>98002</td>\n",
              "    </tr>\n",
              "    <tr>\n",
              "      <th>1</th>\n",
              "      <td>2</td>\n",
              "      <td>6/16/06</td>\n",
              "      <td>1000000</td>\n",
              "      <td>1200013</td>\n",
              "      <td>Single Family</td>\n",
              "      <td>4</td>\n",
              "      <td>3.75</td>\n",
              "      <td>3764</td>\n",
              "      <td>20156</td>\n",
              "      <td>2005</td>\n",
              "      <td>98166</td>\n",
              "    </tr>\n",
              "    <tr>\n",
              "      <th>2</th>\n",
              "      <td>3</td>\n",
              "      <td>1/29/07</td>\n",
              "      <td>745000</td>\n",
              "      <td>1200019</td>\n",
              "      <td>Single Family</td>\n",
              "      <td>4</td>\n",
              "      <td>1.75</td>\n",
              "      <td>2060</td>\n",
              "      <td>26036</td>\n",
              "      <td>1947</td>\n",
              "      <td>98166</td>\n",
              "    </tr>\n",
              "    <tr>\n",
              "      <th>3</th>\n",
              "      <td>4</td>\n",
              "      <td>2/25/08</td>\n",
              "      <td>425000</td>\n",
              "      <td>2800016</td>\n",
              "      <td>Single Family</td>\n",
              "      <td>5</td>\n",
              "      <td>3.75</td>\n",
              "      <td>3200</td>\n",
              "      <td>8618</td>\n",
              "      <td>1966</td>\n",
              "      <td>98168</td>\n",
              "    </tr>\n",
              "    <tr>\n",
              "      <th>4</th>\n",
              "      <td>5</td>\n",
              "      <td>3/29/13</td>\n",
              "      <td>240000</td>\n",
              "      <td>2800024</td>\n",
              "      <td>Single Family</td>\n",
              "      <td>4</td>\n",
              "      <td>1.75</td>\n",
              "      <td>1720</td>\n",
              "      <td>8620</td>\n",
              "      <td>1948</td>\n",
              "      <td>98168</td>\n",
              "    </tr>\n",
              "    <tr>\n",
              "      <th>...</th>\n",
              "      <td>...</td>\n",
              "      <td>...</td>\n",
              "      <td>...</td>\n",
              "      <td>...</td>\n",
              "      <td>...</td>\n",
              "      <td>...</td>\n",
              "      <td>...</td>\n",
              "      <td>...</td>\n",
              "      <td>...</td>\n",
              "      <td>...</td>\n",
              "      <td>...</td>\n",
              "    </tr>\n",
              "    <tr>\n",
              "      <th>27058</th>\n",
              "      <td>27059</td>\n",
              "      <td>10/31/12</td>\n",
              "      <td>374000</td>\n",
              "      <td>9895000030</td>\n",
              "      <td>Townhouse</td>\n",
              "      <td>2</td>\n",
              "      <td>1.75</td>\n",
              "      <td>1410</td>\n",
              "      <td>1161</td>\n",
              "      <td>2011</td>\n",
              "      <td>-1</td>\n",
              "    </tr>\n",
              "    <tr>\n",
              "      <th>27059</th>\n",
              "      <td>27060</td>\n",
              "      <td>12/7/12</td>\n",
              "      <td>374000</td>\n",
              "      <td>9895000040</td>\n",
              "      <td>Townhouse</td>\n",
              "      <td>2</td>\n",
              "      <td>1.75</td>\n",
              "      <td>1410</td>\n",
              "      <td>1005</td>\n",
              "      <td>2011</td>\n",
              "      <td>-1</td>\n",
              "    </tr>\n",
              "    <tr>\n",
              "      <th>27060</th>\n",
              "      <td>27061</td>\n",
              "      <td>7/9/12</td>\n",
              "      <td>165000</td>\n",
              "      <td>9899200010</td>\n",
              "      <td>Single Family</td>\n",
              "      <td>4</td>\n",
              "      <td>1.00</td>\n",
              "      <td>1070</td>\n",
              "      <td>11170</td>\n",
              "      <td>1971</td>\n",
              "      <td>98055</td>\n",
              "    </tr>\n",
              "    <tr>\n",
              "      <th>27061</th>\n",
              "      <td>27062</td>\n",
              "      <td>5/26/06</td>\n",
              "      <td>315000</td>\n",
              "      <td>9900000355</td>\n",
              "      <td>Single Family</td>\n",
              "      <td>3</td>\n",
              "      <td>2.00</td>\n",
              "      <td>1345</td>\n",
              "      <td>6223</td>\n",
              "      <td>1939</td>\n",
              "      <td>98166</td>\n",
              "    </tr>\n",
              "    <tr>\n",
              "      <th>27062</th>\n",
              "      <td>27063</td>\n",
              "      <td>1/9/07</td>\n",
              "      <td>465000</td>\n",
              "      <td>9906000035</td>\n",
              "      <td>Single Family</td>\n",
              "      <td>3</td>\n",
              "      <td>1.50</td>\n",
              "      <td>790</td>\n",
              "      <td>4400</td>\n",
              "      <td>1928</td>\n",
              "      <td>98103</td>\n",
              "    </tr>\n",
              "  </tbody>\n",
              "</table>\n",
              "<p>27063 rows × 11 columns</p>\n",
              "</div>"
            ],
            "text/plain": [
              "          ID      Date  SalePrice  ...  SqFtLot YrBuilt  ZipCode\n",
              "0          1   9/16/14     280000  ...     9373    1991    98002\n",
              "1          2   6/16/06    1000000  ...    20156    2005    98166\n",
              "2          3   1/29/07     745000  ...    26036    1947    98166\n",
              "3          4   2/25/08     425000  ...     8618    1966    98168\n",
              "4          5   3/29/13     240000  ...     8620    1948    98168\n",
              "...      ...       ...        ...  ...      ...     ...      ...\n",
              "27058  27059  10/31/12     374000  ...     1161    2011       -1\n",
              "27059  27060   12/7/12     374000  ...     1005    2011       -1\n",
              "27060  27061    7/9/12     165000  ...    11170    1971    98055\n",
              "27061  27062   5/26/06     315000  ...     6223    1939    98166\n",
              "27062  27063    1/9/07     465000  ...     4400    1928    98103\n",
              "\n",
              "[27063 rows x 11 columns]"
            ]
          },
          "metadata": {
            "tags": []
          },
          "execution_count": 2
        }
      ]
    },
    {
      "cell_type": "markdown",
      "metadata": {
        "id": "yoKsnmdFrCed",
        "colab_type": "text"
      },
      "source": [
        "## 'Summary' of data"
      ]
    },
    {
      "cell_type": "code",
      "metadata": {
        "id": "Af_NRAyhrCee",
        "colab_type": "code",
        "colab": {
          "base_uri": "https://localhost:8080/",
          "height": 288
        },
        "outputId": "8c484424-069c-47de-8d7c-3b7f444b72c3"
      },
      "source": [
        "## TODO : use describe to get an idea of the data\n",
        "## Hint : 'describe' \n",
        "house_prices.describe()"
      ],
      "execution_count": 3,
      "outputs": [
        {
          "output_type": "execute_result",
          "data": {
            "text/html": [
              "<div>\n",
              "<style scoped>\n",
              "    .dataframe tbody tr th:only-of-type {\n",
              "        vertical-align: middle;\n",
              "    }\n",
              "\n",
              "    .dataframe tbody tr th {\n",
              "        vertical-align: top;\n",
              "    }\n",
              "\n",
              "    .dataframe thead th {\n",
              "        text-align: right;\n",
              "    }\n",
              "</style>\n",
              "<table border=\"1\" class=\"dataframe\">\n",
              "  <thead>\n",
              "    <tr style=\"text-align: right;\">\n",
              "      <th></th>\n",
              "      <th>ID</th>\n",
              "      <th>SalePrice</th>\n",
              "      <th>PropertyID</th>\n",
              "      <th>Bedrooms</th>\n",
              "      <th>Bathrooms</th>\n",
              "      <th>SqFtTotLiving</th>\n",
              "      <th>SqFtLot</th>\n",
              "      <th>YrBuilt</th>\n",
              "      <th>ZipCode</th>\n",
              "    </tr>\n",
              "  </thead>\n",
              "  <tbody>\n",
              "    <tr>\n",
              "      <th>count</th>\n",
              "      <td>27063.000000</td>\n",
              "      <td>2.706300e+04</td>\n",
              "      <td>2.706300e+04</td>\n",
              "      <td>27063.000000</td>\n",
              "      <td>27063.000000</td>\n",
              "      <td>27063.000000</td>\n",
              "      <td>2.706300e+04</td>\n",
              "      <td>27063.000000</td>\n",
              "      <td>27063.000000</td>\n",
              "    </tr>\n",
              "    <tr>\n",
              "      <th>mean</th>\n",
              "      <td>13532.000000</td>\n",
              "      <td>5.116262e+05</td>\n",
              "      <td>4.680325e+09</td>\n",
              "      <td>3.380150</td>\n",
              "      <td>2.255552</td>\n",
              "      <td>2122.963160</td>\n",
              "      <td>1.099768e+04</td>\n",
              "      <td>1977.086871</td>\n",
              "      <td>82223.038244</td>\n",
              "    </tr>\n",
              "    <tr>\n",
              "      <th>std</th>\n",
              "      <td>7812.559504</td>\n",
              "      <td>3.428212e+05</td>\n",
              "      <td>2.896351e+09</td>\n",
              "      <td>0.895447</td>\n",
              "      <td>0.771191</td>\n",
              "      <td>939.839476</td>\n",
              "      <td>2.811066e+04</td>\n",
              "      <td>30.921491</td>\n",
              "      <td>36106.665559</td>\n",
              "    </tr>\n",
              "    <tr>\n",
              "      <th>min</th>\n",
              "      <td>1.000000</td>\n",
              "      <td>3.000000e+03</td>\n",
              "      <td>1.000102e+06</td>\n",
              "      <td>0.000000</td>\n",
              "      <td>0.000000</td>\n",
              "      <td>370.000000</td>\n",
              "      <td>4.940000e+02</td>\n",
              "      <td>1900.000000</td>\n",
              "      <td>-1.000000</td>\n",
              "    </tr>\n",
              "    <tr>\n",
              "      <th>25%</th>\n",
              "      <td>6766.500000</td>\n",
              "      <td>3.290000e+05</td>\n",
              "      <td>2.213000e+09</td>\n",
              "      <td>3.000000</td>\n",
              "      <td>1.750000</td>\n",
              "      <td>1440.000000</td>\n",
              "      <td>4.257500e+03</td>\n",
              "      <td>1954.000000</td>\n",
              "      <td>98019.000000</td>\n",
              "    </tr>\n",
              "    <tr>\n",
              "      <th>50%</th>\n",
              "      <td>13532.000000</td>\n",
              "      <td>4.250000e+05</td>\n",
              "      <td>3.972900e+09</td>\n",
              "      <td>3.000000</td>\n",
              "      <td>2.500000</td>\n",
              "      <td>1940.000000</td>\n",
              "      <td>6.636000e+03</td>\n",
              "      <td>1986.000000</td>\n",
              "      <td>98053.000000</td>\n",
              "    </tr>\n",
              "    <tr>\n",
              "      <th>75%</th>\n",
              "      <td>20297.500000</td>\n",
              "      <td>5.900000e+05</td>\n",
              "      <td>7.504001e+09</td>\n",
              "      <td>4.000000</td>\n",
              "      <td>2.500000</td>\n",
              "      <td>2610.000000</td>\n",
              "      <td>9.450000e+03</td>\n",
              "      <td>2006.000000</td>\n",
              "      <td>98115.000000</td>\n",
              "    </tr>\n",
              "    <tr>\n",
              "      <th>max</th>\n",
              "      <td>27063.000000</td>\n",
              "      <td>1.100000e+07</td>\n",
              "      <td>9.906000e+09</td>\n",
              "      <td>33.000000</td>\n",
              "      <td>8.000000</td>\n",
              "      <td>10740.000000</td>\n",
              "      <td>1.024068e+06</td>\n",
              "      <td>2016.000000</td>\n",
              "      <td>98354.000000</td>\n",
              "    </tr>\n",
              "  </tbody>\n",
              "</table>\n",
              "</div>"
            ],
            "text/plain": [
              "                 ID     SalePrice  ...       YrBuilt       ZipCode\n",
              "count  27063.000000  2.706300e+04  ...  27063.000000  27063.000000\n",
              "mean   13532.000000  5.116262e+05  ...   1977.086871  82223.038244\n",
              "std     7812.559504  3.428212e+05  ...     30.921491  36106.665559\n",
              "min        1.000000  3.000000e+03  ...   1900.000000     -1.000000\n",
              "25%     6766.500000  3.290000e+05  ...   1954.000000  98019.000000\n",
              "50%    13532.000000  4.250000e+05  ...   1986.000000  98053.000000\n",
              "75%    20297.500000  5.900000e+05  ...   2006.000000  98115.000000\n",
              "max    27063.000000  1.100000e+07  ...   2016.000000  98354.000000\n",
              "\n",
              "[8 rows x 9 columns]"
            ]
          },
          "metadata": {
            "tags": []
          },
          "execution_count": 3
        }
      ]
    },
    {
      "cell_type": "markdown",
      "metadata": {
        "id": "44OaKAUdrCeg",
        "colab_type": "text"
      },
      "source": [
        "## Histogram / Frequency Plot\n",
        "Create a frequency table & histogram plot based on number of bedrooms"
      ]
    },
    {
      "cell_type": "code",
      "metadata": {
        "id": "kTEwKjOmrCeh",
        "colab_type": "code",
        "colab": {
          "base_uri": "https://localhost:8080/",
          "height": 276
        },
        "outputId": "6eeaba04-d7a1-4b5b-fc0e-9c5f62bb5971"
      },
      "source": [
        "## calculate a frequency count\n",
        "## Hint : group by 'Bedrooms'\n",
        "freq_count = house_prices.groupby(\"Bedrooms\").size()\n",
        "freq_count"
      ],
      "execution_count": 4,
      "outputs": [
        {
          "output_type": "execute_result",
          "data": {
            "text/plain": [
              "Bedrooms\n",
              "0        12\n",
              "1       164\n",
              "2      3415\n",
              "3     12074\n",
              "4      9190\n",
              "5      1872\n",
              "6       275\n",
              "7        41\n",
              "8        10\n",
              "9         5\n",
              "11        3\n",
              "13        1\n",
              "33        1\n",
              "dtype: int64"
            ]
          },
          "metadata": {
            "tags": []
          },
          "execution_count": 4
        }
      ]
    },
    {
      "cell_type": "code",
      "metadata": {
        "id": "RtZvw4owrCej",
        "colab_type": "code",
        "colab": {
          "base_uri": "https://localhost:8080/",
          "height": 296
        },
        "outputId": "03e26b38-ce53-418c-9cc9-ef2c306a8006"
      },
      "source": [
        "## TODO : countplot\n",
        "## Hint : data=house_prices,   x='Bedrooms'\n",
        "\n",
        "sns.countplot(data=house_prices, x=\"Bedrooms\")"
      ],
      "execution_count": 5,
      "outputs": [
        {
          "output_type": "execute_result",
          "data": {
            "text/plain": [
              "<matplotlib.axes._subplots.AxesSubplot at 0x7fa0591150b8>"
            ]
          },
          "metadata": {
            "tags": []
          },
          "execution_count": 5
        },
        {
          "output_type": "display_data",
          "data": {
            "image/png": "[encoded data removed]",
            "text/plain": [
              "<Figure size 432x288 with 1 Axes>"
            ]
          },
          "metadata": {
            "tags": [],
            "needs_background": "light"
          }
        }
      ]
    },
    {
      "cell_type": "markdown",
      "metadata": {
        "id": "da3Jh8e0rCem",
        "colab_type": "text"
      },
      "source": [
        "## Create a BoxPlot on sale prices \n",
        "Sale prices per property type  (Single Family, Townhouse)"
      ]
    },
    {
      "cell_type": "code",
      "metadata": {
        "id": "BdCkl60brCem",
        "colab_type": "code",
        "colab": {
          "base_uri": "https://localhost:8080/",
          "height": 307
        },
        "outputId": "ec68c766-9f23-4d95-ea72-c97810e241fd"
      },
      "source": [
        "## TODO : data=price_by_property_type\n",
        "## Hint : data=house_prices. X='PropertyType', y='SalePrice'\n",
        "sns.boxplot(x=\"PropertyType\", y=\"SalePrice\",  data=house_prices)"
      ],
      "execution_count": 6,
      "outputs": [
        {
          "output_type": "execute_result",
          "data": {
            "text/plain": [
              "<matplotlib.axes._subplots.AxesSubplot at 0x7fa058ff4748>"
            ]
          },
          "metadata": {
            "tags": []
          },
          "execution_count": 6
        },
        {
          "output_type": "display_data",
          "data": {
            "image/png": "[encoded data removed]",
            "text/plain": [
              "<Figure size 432x288 with 1 Axes>"
            ]
          },
          "metadata": {
            "tags": [],
            "needs_background": "light"
          }
        }
      ]
    },
    {
      "cell_type": "markdown",
      "metadata": {
        "id": "5DXJzOQprCeq",
        "colab_type": "text"
      },
      "source": [
        "## Bonus Lab : Improving our plot\n",
        "Our plot data is pretty 'squished'  Let's see if we can improve it.  \n",
        "Some of the outliers (like the 33 bedroom house is messing up the display).  \n",
        "Let's remove the outliers."
      ]
    },
    {
      "cell_type": "code",
      "metadata": {
        "id": "uF9cs9e8rCeq",
        "colab_type": "code",
        "colab": {
          "base_uri": "https://localhost:8080/",
          "height": 35
        },
        "outputId": "676e10ac-a113-4839-b3ed-025c10652594"
      },
      "source": [
        "## We are going to remove 10% off the data from the bottom and top\n",
        "\n",
        "## first calculate 10%  and 90% prices\n",
        "## Hint : supply the right parameters for quantile (10% --> 0.1,  90% --> 0.9)\n",
        "ten_ninety = house_prices.SalePrice.quantile([.1, .9])\n",
        "\n",
        "## extract 10% and 90% into variables\n",
        "ten_percent_price = int(house_prices.SalePrice.quantile(.1))\n",
        "ninety_percent_price = int(house_prices.SalePrice.quantile(.9))\n",
        "print(\"10% price=\", ten_percent_price,  \", 90% price=\", ninety_percent_price)"
      ],
      "execution_count": 12,
      "outputs": [
        {
          "output_type": "stream",
          "text": [
            "10% price= 260000 , 90% price= 820000\n"
          ],
          "name": "stdout"
        }
      ]
    },
    {
      "cell_type": "code",
      "metadata": {
        "id": "PzMJm8sZrCet",
        "colab_type": "code",
        "colab": {
          "base_uri": "https://localhost:8080/",
          "height": 86
        },
        "outputId": "b867db82-417e-4eca-c353-17d0d8ea0cad"
      },
      "source": [
        "## filter out below 10% and above 90%\n",
        "print(\"total sales \", len(house_prices.index))\n",
        "\n",
        "## filter prices above 10%  (hint : ten_percent_price)\n",
        "above_ten = house_prices[house_prices[\"SalePrice\"] >= ten_percent_price]\n",
        "print(\"above 10% \" , len(above_ten.index))\n",
        "\n",
        "## filter prices below 90%  (hint : <= ninety_percent_price)\n",
        "below_ninety  = house_prices.filter(house_prices[\"SalePrice\"] <= ninety_percent_price)\n",
        "print(\"below 90% \", len(below_ninety.index))\n",
        "## filter above 10% and below 90% in one query\n",
        "above_ten_below_ninety = house_prices.loc[(house_prices['SalePrice'] >= ten_percent_price) & (house_prices['SalePrice'] <=  ninety_percent_price)]\n",
        "print(\"between 10% and 90% = {:,}\".format(above_ten_below_ninety.shape[0]))"
      ],
      "execution_count": 13,
      "outputs": [
        {
          "output_type": "stream",
          "text": [
            "total sales  27063\n",
            "above 10%  24411\n",
            "below 90%  27063\n",
            "between 10% and 90% = 21,716\n"
          ],
          "name": "stdout"
        }
      ]
    },
    {
      "cell_type": "code",
      "metadata": {
        "id": "2s334AADrCev",
        "colab_type": "code",
        "colab": {
          "base_uri": "https://localhost:8080/",
          "height": 296
        },
        "outputId": "25499c89-38f8-42ea-f047-c26bc646cd99"
      },
      "source": [
        "## TODO: do the same plot again\n",
        "## Hint : data=above_ten_below_ninety\n",
        "sns.boxplot(x=\"PropertyType\", y=\"SalePrice\",  data=above_ten_below_ninety)"
      ],
      "execution_count": 11,
      "outputs": [
        {
          "output_type": "execute_result",
          "data": {
            "text/plain": [
              "<matplotlib.axes._subplots.AxesSubplot at 0x7fa058acd6d8>"
            ]
          },
          "metadata": {
            "tags": []
          },
          "execution_count": 11
        },
        {
          "output_type": "display_data",
          "data": {
            "image/png": "[encoded data removed]",
            "text/plain": [
              "<Figure size 432x288 with 1 Axes>"
            ]
          },
          "metadata": {
            "tags": [],
            "needs_background": "light"
          }
        }
      ]
    },
    {
      "cell_type": "markdown",
      "metadata": {
        "id": "g0Ykkm2crCex",
        "colab_type": "text"
      },
      "source": [
        "## Any other plots?\n",
        "Look at [MatplotLib Examples](https://matplotlib.org/gallery.html).\n",
        "If any of them inspire you try to create a graph like that!\n",
        "And do show it off to the class  :-)"
      ]
    }
  ]
}